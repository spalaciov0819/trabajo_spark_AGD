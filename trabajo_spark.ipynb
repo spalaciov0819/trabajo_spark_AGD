{
 "cells": [
  {
   "cell_type": "code",
   "execution_count": 1,
   "metadata": {},
   "outputs": [],
   "source": [
    "# Agrege acá el código para importar las librerias\n",
    "\n",
    "# La libreria para \"encontrar el sevicio\" de Spark\n",
    "import findspark\n",
    "findspark.init()\n",
    "\n",
    "# Librerias para \"gestionar el servicio\" de Spark\n",
    "from pyspark import SparkConf, SparkContext\n",
    "from pyspark.sql import SQLContext, SparkSession\n",
    "\n",
    "# Creamos una aplicación Spark en el Servicio\n",
    "# Tenga cuidado con las tildes o caracteres especiales en el nombre de la app\n",
    "sparkConf = SparkConf().setAppName(\"Evaluacion iSofware\")\n",
    "\n",
    "# definimos un espacio o contexto para la App\n",
    "sc=SparkContext(conf=sparkConf)\n",
    "\n",
    "# inicio una sesión en el espacio de la App\n",
    "spark = SparkSession(sc)\n",
    "\n",
    "# inicio del espacio o contexto SQL\n",
    "ContextoSql = SQLContext(sparkContext=sc, sparkSession=spark)"
   ]
  },
  {
   "cell_type": "code",
   "execution_count": 2,
   "metadata": {},
   "outputs": [
    {
     "name": "stdout",
     "output_type": "stream",
     "text": [
      "--2021-05-13 00:26:40--  https://raw.githubusercontent.com/spalaciov0819/trabajo_spark_AGD/main/Asistencia_del_Pitch.csv\n",
      "Resolving raw.githubusercontent.com (raw.githubusercontent.com)... 185.199.111.133, 185.199.108.133, 185.199.109.133, ...\n",
      "Connecting to raw.githubusercontent.com (raw.githubusercontent.com)|185.199.111.133|:443... connected.\n",
      "HTTP request sent, awaiting response... 200 OK\n",
      "Length: 88444 (86K) [text/plain]\n",
      "Saving to: 'Asistencia_del_Pitch.csv.1'\n",
      "\n",
      "Asistencia_del_Pitc 100%[===================>]  86.37K  --.-KB/s    in 0.04s   \n",
      "\n",
      "2021-05-13 00:26:51 (1.97 MB/s) - 'Asistencia_del_Pitch.csv.1' saved [88444/88444]\n",
      "\n",
      "--2021-05-13 00:26:52--  https://raw.githubusercontent.com/spalaciov0819/trabajo_spark_AGD/main/Evaluacion_del_Pitch.csv\n",
      "Resolving raw.githubusercontent.com (raw.githubusercontent.com)... 185.199.111.133, 185.199.108.133, 185.199.109.133, ...\n",
      "Connecting to raw.githubusercontent.com (raw.githubusercontent.com)|185.199.111.133|:443... connected.\n",
      "HTTP request sent, awaiting response... 200 OK\n",
      "Length: 88099 (86K) [text/plain]\n",
      "Saving to: 'Evaluacion_del_Pitch.csv.1'\n",
      "\n",
      "Evaluacion_del_Pitc 100%[===================>]  86.03K  --.-KB/s    in 0.04s   \n",
      "\n",
      "2021-05-13 00:27:03 (2.00 MB/s) - 'Evaluacion_del_Pitch.csv.1' saved [88099/88099]\n",
      "\n"
     ]
    }
   ],
   "source": [
    "# 1. Cargue los datos en la carpeta datalake y luego del /datalake al HDFS (Hadoop File System)\n",
    "# Recuerda usar ! para ejecutar el comando en el shell. \n",
    "# Tu código a continuación...\n",
    "\n",
    "\n",
    "!wget https://raw.githubusercontent.com/spalaciov0819/trabajo_spark_AGD/main/Asistencia_del_Pitch.csv\n",
    "\n",
    "!wget https://raw.githubusercontent.com/spalaciov0819/trabajo_spark_AGD/main/Evaluacion_del_Pitch.csv"
   ]
  },
  {
   "cell_type": "code",
   "execution_count": 3,
   "metadata": {},
   "outputs": [],
   "source": [
    "!hdfs dfs -ls"
   ]
  },
  {
   "cell_type": "code",
   "execution_count": 4,
   "metadata": {},
   "outputs": [
    {
     "name": "stdout",
     "output_type": "stream",
     "text": [
      "copyFromLocal: `/tmp/Asistencia_del_Pitch.csv': File exists\n",
      "copyFromLocal: `/tmp/Evaluacion_del_Pitch.csv': File exists\n"
     ]
    }
   ],
   "source": [
    "!hdfs dfs -copyFromLocal Asistencia_del_Pitch.csv /tmp/Asistencia_del_Pitch.csv\n",
    "!hdfs dfs -copyFromLocal Evaluacion_del_Pitch.csv /tmp/Evaluacion_del_Pitch.csv"
   ]
  },
  {
   "cell_type": "code",
   "execution_count": 5,
   "metadata": {},
   "outputs": [
    {
     "name": "stdout",
     "output_type": "stream",
     "text": [
      "-rw-r--r--   1 root supergroup      88444 2021-05-12 23:01 /tmp/Asistencia_del_Pitch.csv\n",
      "-rw-r--r--   1 root supergroup      88099 2021-05-12 23:01 /tmp/Evaluacion_del_Pitch.csv\n"
     ]
    }
   ],
   "source": [
    "!hdfs dfs -ls /tmp/*csv"
   ]
  },
  {
   "cell_type": "code",
   "execution_count": 6,
   "metadata": {},
   "outputs": [],
   "source": [
    "# 2. Cree dos tablas SparkSQL y almacene el csv en su correspondiente tabla.\n",
    "# Observación: tenga especial cuidado con los encabezados de los archivos CSV.\n",
    "# Usted puede considerar cambiar los encabezados de los CSV originales\n",
    "# Tu código a continuación..."
   ]
  },
  {
   "cell_type": "code",
   "execution_count": 7,
   "metadata": {},
   "outputs": [],
   "source": [
    "#Para tener un facil manejo de los encabezados en la tabla de evaluacion, se deciden hacer los siguientes cambios en el encabezado del archivo:\n",
    "\n",
    "#Marca temporal    se reemplaza por   -->   tiempo\n",
    "#Nombre de usuario    se reemplaza por   -->   usuario\n",
    "#Equipo que vas a evaluar:    se reemplaza por   -->   equipo_evualuado\n",
    "#1. \"Introducción: El equipo responde adecuadamente ¿Quiénes son y por qué están aquí?\"    se reemplaza por   -->   introduccion\n",
    "#2. \"Equipo: El equipo responde adecuadamente ¿Quiénes están detrás de la idea y cuál es su función?\"    se reemplaza por   -->   equipo\n",
    "#3. \"Problema: El equipo responde adecuadamente ¿Qué problema resolverá?, ¿es realmente un problema?\"    se reemplaza por   -->   problema\n",
    "#4. \"Ventajas: El equipo responde adecuadamente ¿Por qué su solución es especial?, ¿qué la hace distinta de otras?\"    se reemplaza por   -->   ventajas\n",
    "#5. \"Solución: El equipo responde adecuadamente ¿Cómo piensa resolver el problema?\"    se reemplaza por   -->   solucion\n",
    "#6. \"Producto: El equipo responde adecuadamente ¿Cómo funciona el producto o servicio? Muestra algunos ejemplos.\"    se reemplaza por   -->   producto\n",
    "#7. \"Tracción: El equipo responde adecuadamente si cuenta con clientes que demuestran potencial.\"    se reemplaza por   -->   traccion\n",
    "#8. \"Mercado: El equipo responde conoce, o por lo menos intentar predecir, el tamaño del mercado que impactará.\"    se reemplaza por   -->   mercado\n",
    "#9. \"Competencia: El equipo responde adecuadamente ¿Cuáles son las soluciones alternativas al problema que plantea?\"    se reemplaza por   -->   competencia\n",
    "#10. \"Modelo de negocio: El equipo responde adecuadamente ¿Cómo hará dinero? \"    se reemplaza por   -->   modelo\n",
    "#11. \"Inversión: El equipo responde adecuadamente ¿Cuál es su presupuesto y cuánto espera ganar?\"    se reemplaza por   -->   inversion\n",
    "#12. \"Contacto: El equipo deja los datos al cliente y muestra cómo pueden contactarle.\"    se reemplaza por   -->   contacto\n",
    "#13. \"Exposición: ¿Qué tan coordinados estaban los expositores?\"    se reemplaza por   -->   exposicion1\n",
    "#14. \"Exposición: ¿Los expositores se expresaron con claridad y se hicieron entender?\"    se reemplaza por   -->   exposicion2\n",
    "#15. \"Exposición: Las diapositivas son claras y coherentes y apoyaron adecuadamente la exposición.\"    se reemplaza por   -->   exposicion3\n",
    "#\"Suponiendo que eres inversionista, ¿Estarías dispuesto a invertir dinero en este equipo? (esta pregunta no se pondera en la nota)\",    se reemplaza por   -->   invertirias\n",
    "#\"Observaciones para el equipo, estas observaciones las debe considerar el equipo para mejorar la siguiente presentación.\"    se reemplaza por   -->   observacion\n",
    "\n",
    "\n",
    "#Para tener un facil manejo de los encabezados en la tabla de asistencia, se deciden hacer los siguientes cambios en el encabezado del archivo:\n",
    "\n",
    "#Marca temporal    se reemplaza por   -->   tiempo\n",
    "#Nombre de usuario    se reemplaza por   -->   usuario\n",
    "#Equipo al que perteneces:    se reemplaza por   -->   equipo_perteneces\n",
    "#Equipo que va a exponer:    se reemplaza por   -->   equipo_expone\n",
    "\n"
   ]
  },
  {
   "cell_type": "code",
   "execution_count": 8,
   "metadata": {},
   "outputs": [],
   "source": [
    "asistencia = spark.read.load('/tmp/Asistencia_del_Pitch.csv', \n",
    "                           format=\"csv\",\n",
    "                           sep=';',\n",
    "                           inferSchema='true',\n",
    "                           header='true')\n",
    "\n",
    "evaluacion = spark.read.load('/tmp/Evaluacion_del_Pitch.csv', \n",
    "                           format=\"csv\",\n",
    "                           sep=';',\n",
    "                           inferSchema='true',\n",
    "                           header='true')"
   ]
  },
  {
   "cell_type": "code",
   "execution_count": 9,
   "metadata": {},
   "outputs": [
    {
     "name": "stdout",
     "output_type": "stream",
     "text": [
      "root\n",
      " |-- tiempo: string (nullable = true)\n",
      " |-- usuario: string (nullable = true)\n",
      " |-- equipo_perteneces: string (nullable = true)\n",
      " |-- equipo_expone: string (nullable = true)\n",
      "\n",
      "root\n",
      " |-- tiempo: string (nullable = true)\n",
      " |-- usuario: string (nullable = true)\n",
      " |-- equipo_evaluado: string (nullable = true)\n",
      " |-- introduccion: integer (nullable = true)\n",
      " |-- equipo: integer (nullable = true)\n",
      " |-- problema: integer (nullable = true)\n",
      " |-- ventajas: integer (nullable = true)\n",
      " |-- solucion: integer (nullable = true)\n",
      " |-- producto: integer (nullable = true)\n",
      " |-- traccion: integer (nullable = true)\n",
      " |-- mercado: integer (nullable = true)\n",
      " |-- competencia: integer (nullable = true)\n",
      " |-- modelo: integer (nullable = true)\n",
      " |-- inversion: integer (nullable = true)\n",
      " |-- contacto: integer (nullable = true)\n",
      " |-- exposicion1: integer (nullable = true)\n",
      " |-- exposicion2: integer (nullable = true)\n",
      " |-- exposicion3: integer (nullable = true)\n",
      " |-- invertirias: string (nullable = true)\n",
      " |-- observacion: string (nullable = true)\n",
      "\n"
     ]
    }
   ],
   "source": [
    "asistencia.printSchema()\n",
    "\n",
    "evaluacion.printSchema()"
   ]
  },
  {
   "cell_type": "code",
   "execution_count": 10,
   "metadata": {},
   "outputs": [],
   "source": [
    "asistencia.createOrReplaceTempView('asistencia')\n",
    "\n",
    "evaluacion.createOrReplaceTempView('evaluacion')"
   ]
  },
  {
   "cell_type": "code",
   "execution_count": 11,
   "metadata": {},
   "outputs": [
    {
     "name": "stdout",
     "output_type": "stream",
     "text": [
      "+--------------------+\n",
      "|             usuario|\n",
      "+--------------------+\n",
      "| abanolc@unal.edu.co|\n",
      "|acastrillonv@unal...|\n",
      "| aflemag@unal.edu.co|\n",
      "|anapariciom@unal....|\n",
      "|angutierrezb@unal...|\n",
      "|anoriega@unal.edu.co|\n",
      "|auarbelaeza@unal....|\n",
      "| bocampo@unal.edu.co|\n",
      "|cgiraldo@unal.edu.co|\n",
      "|cjfunezg@unal.edu.co|\n",
      "|cquinchiar@unal.e...|\n",
      "| dadazam@unal.edu.co|\n",
      "|daestradam@unal.e...|\n",
      "|davgarciava@unal....|\n",
      "|dballesteroso@una...|\n",
      "|  dbrito@unal.edu.co|\n",
      "|dcadavid@unal.edu.co|\n",
      "|dcardonaal@unal.e...|\n",
      "|dchavarriar@unal....|\n",
      "|dgarciabl@unal.ed...|\n",
      "+--------------------+\n",
      "only showing top 20 rows\n",
      "\n"
     ]
    }
   ],
   "source": [
    "# 2. Consulte el listado total de estudiantes (correos electrónicos) del \n",
    "# curso de Ingeniería de Software, ordenados alfabéticamente\n",
    "# Tu código a continuación...\n",
    "\n",
    "spark.sql(\"\"\" \n",
    "SELECT DISTINCT usuario \n",
    "FROM asistencia \n",
    "ORDER BY usuario\n",
    "\"\"\").show()"
   ]
  },
  {
   "cell_type": "code",
   "execution_count": 12,
   "metadata": {},
   "outputs": [
    {
     "name": "stdout",
     "output_type": "stream",
     "text": [
      "+--------------------+-----------+--------------------+--------------------+\n",
      "|             usuario|asistencias|  primera_asistencia|   ultima_asistencia|\n",
      "+--------------------+-----------+--------------------+--------------------+\n",
      "|anapariciom@unal....|         10|2021/04/08 8:11:4...|2021/04/13 9:38:5...|\n",
      "|jovillarrealm@una...|         10|2021/04/08 10:02:...|2021/04/13 9:42:5...|\n",
      "|samolinap@unal.ed...|         10|2021/04/08 8:11:4...|2021/04/13 9:37:2...|\n",
      "|favasquezj@unal.e...|         10|2021/04/08 8:10:5...|2021/04/13 9:41:0...|\n",
      "|saespinosab@unal....|          9|2021/04/08 10:10:...|2021/04/13 9:51:0...|\n",
      "|rmbuilesm@unal.ed...|          9|2021/04/08 8:14:1...|2021/04/13 9:41:3...|\n",
      "|sebermudezg@unal....|          9|2021/04/08 8:13:0...|2021/04/13 9:40:1...|\n",
      "|jspatinoa@unal.ed...|          9|2021/04/08 8:17:2...|2021/04/13 9:41:1...|\n",
      "|lumarinb@unal.edu.co|          9|2021/04/08 8:10:5...|2021/04/13 9:43:2...|\n",
      "| dadazam@unal.edu.co|          9|2021/04/08 8:13:1...|2021/04/13 9:41:1...|\n",
      "|mimorenov@unal.ed...|          9|2021/04/08 8:10:4...|2021/04/13 9:39:0...|\n",
      "|  lmayar@unal.edu.co|          9|2021/04/08 8:13:1...|2021/04/13 9:39:4...|\n",
      "|jcardonaso@unal.e...|          9|2021/04/08 8:10:5...|2021/04/13 9:44:2...|\n",
      "|esgarciac@unal.ed...|          9|2021/04/08 8:24:1...|2021/04/13 9:39:4...|\n",
      "|sasalazarr@unal.e...|          9|2021/04/08 8:13:2...|2021/04/13 9:40:3...|\n",
      "|jlopezpe@unal.edu.co|          9|2021/04/08 8:10:5...|2021/04/13 9:09:3...|\n",
      "|dgarciabl@unal.ed...|          9|2021/04/08 10:00:...|2021/04/13 9:41:0...|\n",
      "|dcadavid@unal.edu.co|          8|2021/04/08 8:13:0...|2021/04/13 9:40:5...|\n",
      "|serendona@unal.ed...|          8|2021/04/08 8:10:4...|2021/04/13 9:40:2...|\n",
      "|fmiranda@unal.edu.co|          8|2021/04/08 8:10:1...|2021/04/13 9:45:0...|\n",
      "+--------------------+-----------+--------------------+--------------------+\n",
      "only showing top 20 rows\n",
      "\n"
     ]
    }
   ],
   "source": [
    "# 3. Consulte la cantidad de asistencias registradas por estudiante; además, la fecha y hora de la primera asistencia\n",
    "# y la fecha y hora de la última asistencia\n",
    "# Tu código a continuación...\n",
    "\n",
    "spark.sql(\"\"\" \n",
    "SELECT usuario, COUNT(DISTINCT(tiempo)) AS asistencias, MIN(tiempo) AS primera_asistencia, MAX(tiempo) AS ultima_asistencia  \n",
    "FROM asistencia \n",
    "GROUP BY usuario\n",
    "ORDER BY asistencias DESC\n",
    "\"\"\").show()"
   ]
  },
  {
   "cell_type": "code",
   "execution_count": 13,
   "metadata": {},
   "outputs": [
    {
     "name": "stdout",
     "output_type": "stream",
     "text": [
      "+--------------------+-----------+\n",
      "|             usuario|asistencias|\n",
      "+--------------------+-----------+\n",
      "|jdroldano@unal.ed...|          1|\n",
      "+--------------------+-----------+\n",
      "\n"
     ]
    }
   ],
   "source": [
    "# 4. Consulte el listado de estudiantes que asistieron a 2 presentaciones o menos (una).\n",
    "# Tu código a continuación...\n",
    "\n",
    "spark.sql(\"\"\" \n",
    "SELECT usuario, COUNT(tiempo) AS asistencias  \n",
    "FROM asistencia \n",
    "GROUP BY usuario\n",
    "HAVING asistencias <= 2\n",
    "\"\"\").show()\n"
   ]
  },
  {
   "cell_type": "code",
   "execution_count": 14,
   "metadata": {},
   "outputs": [
    {
     "name": "stdout",
     "output_type": "stream",
     "text": [
      "+-------+\n",
      "|usuario|\n",
      "+-------+\n",
      "+-------+\n",
      "\n"
     ]
    }
   ],
   "source": [
    "# 5. Consulte el listado de estudiantes que no asistieron a ninguna presentación.\n",
    "# Tu código a continuación...\n",
    "\n",
    "   \n",
    "spark.sql(\"\"\" \n",
    "SELECT evaluacion.usuario  \n",
    "FROM evaluacion\n",
    "LEFT JOIN asistencia ON evaluacion.usuario = asistencia.usuario\n",
    "WHERE asistencia.usuario = NULL\n",
    "\"\"\").show()\n",
    "\n",
    "#Segun el resultado todos los estudiantes asistieron a presentaciones, se hizo el cruce manual en excel para confirmar el resultado"
   ]
  },
  {
   "cell_type": "code",
   "execution_count": 15,
   "metadata": {},
   "outputs": [
    {
     "name": "stdout",
     "output_type": "stream",
     "text": [
      "+--------------------+--------------------+\n",
      "|             usuario|              Equipo|\n",
      "+--------------------+--------------------+\n",
      "|angutierrezb@unal...|Administración de...|\n",
      "| eapenad@unal.edu.co|Administración de...|\n",
      "|emflorezb@unal.ed...|Administración de...|\n",
      "|framirezf@unal.ed...|Administración de...|\n",
      "|jhcordoba@unal.ed...|Administración de...|\n",
      "| jortize@unal.edu.co|Administración de...|\n",
      "| kmolano@unal.edu.co|Administración de...|\n",
      "|lumarinb@unal.edu.co|Administración de...|\n",
      "|nsalinas@unal.edu.co|Administración de...|\n",
      "|rmbuilesm@unal.ed...|Administración de...|\n",
      "|saespinosab@unal....|Administración de...|\n",
      "|samolinap@unal.ed...|Administración de...|\n",
      "|sednarvaezna@unal...|Administración de...|\n",
      "| abanolc@unal.edu.co|Gestión de Menús ...|\n",
      "|anapariciom@unal....|Gestión de Menús ...|\n",
      "|davgarciava@unal....|Gestión de Menús ...|\n",
      "|emlopezr@unal.edu.co|Gestión de Menús ...|\n",
      "|favasquezj@unal.e...|Gestión de Menús ...|\n",
      "|hriveraa@unal.edu.co|Gestión de Menús ...|\n",
      "|jcardonaso@unal.e...|Gestión de Menús ...|\n",
      "+--------------------+--------------------+\n",
      "only showing top 20 rows\n",
      "\n"
     ]
    }
   ],
   "source": [
    "# 6. Consulte los integrantes por cada equipo al que pertenecen.\n",
    "# Tu código a continuación...\n",
    "\n",
    "spark.sql(\"\"\" \n",
    "SELECT DISTINCT \n",
    "      usuario, SUBSTRING(equipo_perteneces,15,LENGTH(equipo_perteneces)-14) as Equipo\n",
    "FROM asistencia\n",
    "ORDER BY Equipo, usuario\n",
    "\"\"\").show()\n"
   ]
  },
  {
   "cell_type": "code",
   "execution_count": 16,
   "metadata": {},
   "outputs": [
    {
     "name": "stdout",
     "output_type": "stream",
     "text": [
      "+--------------------+----------+\n",
      "|              expone|asistentes|\n",
      "+--------------------+----------+\n",
      "|Servicios a domic...|        73|\n",
      "|Gestión de progra...|        73|\n",
      "|     Mi Sanandresito|        71|\n",
      "|Lo tengo y te lo ...|        71|\n",
      "|Gestión de Menús ...|        71|\n",
      "|       Te lo cambio.|        70|\n",
      "|Gestión de Reside...|        69|\n",
      "|Administración de...|        69|\n",
      "|Deserción de estu...|         3|\n",
      "+--------------------+----------+\n",
      "\n"
     ]
    }
   ],
   "source": [
    "# 7. Consulte la cantidad de asistentes por presentación, sin considerar los asistentes que pertenecen \n",
    "# al equipo que realizó la presentación.\n",
    "# Tu código a continuación...\n",
    "\n",
    "   \n",
    "spark.sql(\"\"\" \n",
    "SELECT SUBSTRING(equipo_expone,9,LENGTH(equipo_expone)-8) AS expone, COUNT(DISTINCT(usuario)) AS asistentes  \n",
    "FROM asistencia\n",
    "WHERE SUBSTRING(equipo_perteneces,15,LENGTH(equipo_perteneces)-14) <> SUBSTRING(equipo_expone,9,LENGTH(equipo_expone)-8)\n",
    "GROUP BY expone\n",
    "ORDER BY asistentes DESC\n",
    "\"\"\").show()\n",
    "\n",
    "#NOTA: Se evidencia que hay usuarios que asistieron mas de 1 vez a una misma exposicion que puede verse con este codigo\n",
    "\n",
    "#spark.sql(\"\"\" \n",
    "#SELECT SUBSTRING(equipo_expone,9,LENGTH(equipo_expone)-8) AS expone, COUNT(usuario) AS asistentes  \n",
    "#FROM asistencia\n",
    "#WHERE SUBSTRING(equipo_perteneces,15,LENGTH(equipo_perteneces)-14) <> SUBSTRING(equipo_expone,9,LENGTH(equipo_expone)-8)\n",
    "#GROUP BY expone\n",
    "#ORDER BY asistentes DESC\n",
    "#\"\"\").show()"
   ]
  },
  {
   "cell_type": "code",
   "execution_count": 17,
   "metadata": {},
   "outputs": [
    {
     "name": "stdout",
     "output_type": "stream",
     "text": [
      "+--------------------+--------------------+--------------------+-----+\n",
      "|             usuario|     equipo_evaluado|           pertenece|Veces|\n",
      "+--------------------+--------------------+--------------------+-----+\n",
      "| kmolano@unal.edu.co|Administración de...|Administración de...|    1|\n",
      "|jhcordoba@unal.ed...|Administración de...|Administración de...|    1|\n",
      "|hriveraa@unal.edu.co|Gestión de Menús ...|Gestión de Menús ...|    7|\n",
      "|mcarvajalsa@unal....|Gestión de Reside...|Gestión de Reside...|    1|\n",
      "|  lmayar@unal.edu.co|Gestión de progra...|Gestión de progra...|    9|\n",
      "|daestradam@unal.e...|Lo tengo y te lo ...|Lo tengo y te lo ...|    8|\n",
      "| jruedat@unal.edu.co|Servicios a domic...|Servicios a domic...|    8|\n",
      "|anapariciom@unal....|Servicios a domic...|Servicios a domic...|    1|\n",
      "+--------------------+--------------------+--------------------+-----+\n",
      "\n"
     ]
    }
   ],
   "source": [
    "# 8. Consultar cuáles integrantes evaluaron a su propio equipo. Estas evaluaciones no serán válidas, pues un\n",
    "# integrante no puede evaluar a su propio equipo.\n",
    "# Tu código a continuación...\n",
    "\n",
    "\n",
    "spark.sql(\"\"\" \n",
    "SELECT t1.usuario, t2.equipo_evaluado, (SUBSTRING(t1.equipo_perteneces,15,LENGTH(t1.equipo_perteneces)-14)) AS pertenece, COUNT(t2.tiempo) AS Veces\n",
    "FROM asistencia t1, evaluacion t2\n",
    "WHERE (t1.usuario = t2.usuario AND (SUBSTRING(t1.equipo_perteneces,15,LENGTH(t1.equipo_perteneces)-14) = t2.equipo_evaluado))\n",
    "GROUP BY t1.usuario, t2.equipo_evaluado, pertenece\n",
    "ORDER BY t2.equipo_evaluado, veces DESC\n",
    "\"\"\").show()\n"
   ]
  },
  {
   "cell_type": "code",
   "execution_count": 100,
   "metadata": {},
   "outputs": [
    {
     "name": "stdout",
     "output_type": "stream",
     "text": [
      "+-----------------+-----------+-------------+-------------+-------------+-------------+-------------+------------+----------------+-----------+--------------+-------------+----------------+----------------+----------------+----------+\n",
      "|Prom_introduccion|Prom_equipo|Prom_problema|Prom_ventajas|Prom_solucion|Prom_producto|Prom_traccion|Prom_mercado|Prom_competencia|Prom_modelo|Prom_inversion|Prom_contacto|Prom_exposicion1|Prom_exposicion2|Prom_exposicion3|Prom_Total|\n",
      "+-----------------+-----------+-------------+-------------+-------------+-------------+-------------+------------+----------------+-----------+--------------+-------------+----------------+----------------+----------------+----------+\n",
      "|              4.4|        4.3|          4.4|          4.2|          4.4|          4.4|          4.3|         4.3|             4.2|        4.4|           4.2|          4.5|             4.4|             4.4|             4.5|       4.4|\n",
      "+-----------------+-----------+-------------+-------------+-------------+-------------+-------------+------------+----------------+-----------+--------------+-------------+----------------+----------------+----------------+----------+\n",
      "\n"
     ]
    }
   ],
   "source": [
    "# 9. Consultar la nota promedio por cada ítem (1 al 15), y la nota promedio total del cada equipo. Recuerde que no\n",
    "# son válidas las evaluaciones realizadas por los miembros del mismo equipo.\n",
    "# Tu código a continuación...\n",
    "\n",
    "spark.sql(\"\"\"\n",
    "SELECT ROUND(AVG(t2.introduccion),1) AS Prom_introduccion, ROUND(AVG(t2.equipo),1) AS Prom_equipo, ROUND(AVG(t2.problema),1) AS Prom_problema, ROUND(AVG(t2.ventajas),1) AS Prom_ventajas, ROUND(AVG(t2.solucion),1) AS Prom_solucion, ROUND(AVG(t2.producto),1) AS Prom_producto, ROUND(AVG(t2.traccion),1) AS Prom_traccion, ROUND(AVG(t2.mercado),1) AS Prom_mercado, ROUND(AVG(t2.competencia),1) AS Prom_competencia, ROUND(AVG(t2.modelo),1) AS Prom_modelo, ROUND(AVG(t2.inversion),1) AS Prom_inversion, ROUND(AVG(t2.contacto),1) AS Prom_contacto, ROUND(AVG(t2.exposicion1),1) AS Prom_exposicion1, ROUND(AVG(t2.exposicion2),1) AS Prom_exposicion2, ROUND(AVG(t2.exposicion3),1) AS Prom_exposicion3,  ROUND(((AVG(t2.introduccion) + AVG(t2.equipo) + AVG(t2.problema) + AVG(t2.ventajas) + AVG(t2.solucion) + AVG(t2.producto) + AVG(t2.traccion) + AVG(t2.mercado) + AVG(t2.competencia)  + AVG(t2.modelo) + AVG(t2.inversion) + AVG(t2.contacto) + AVG(t2.exposicion1) + AVG(t2.exposicion2) + AVG(t2.exposicion3))/15),1) AS Prom_Total\n",
    "FROM asistencia t1, evaluacion t2\n",
    "WHERE (t1.usuario = t2.usuario AND (SUBSTRING(t1.equipo_perteneces,15,LENGTH(t1.equipo_perteneces)-14) <> t2.equipo_evaluado))\n",
    "\"\"\").show()\n"
   ]
  },
  {
   "cell_type": "code",
   "execution_count": 101,
   "metadata": {},
   "outputs": [
    {
     "name": "stdout",
     "output_type": "stream",
     "text": [
      "+--------------------+-----------------+-----------+-------------+-------------+-------------+-------------+-------------+------------+----------------+-----------+--------------+-------------+----------------+----------------+----------------+----------+\n",
      "|     equipo_evaluado|Prom_introduccion|Prom_equipo|Prom_problema|Prom_ventajas|Prom_solucion|Prom_producto|Prom_traccion|Prom_mercado|Prom_competencia|Prom_modelo|Prom_inversion|Prom_contacto|Prom_exposicion1|Prom_exposicion2|Prom_exposicion3|Prom_Total|\n",
      "+--------------------+-----------------+-----------+-------------+-------------+-------------+-------------+-------------+------------+----------------+-----------+--------------+-------------+----------------+----------------+----------------+----------+\n",
      "|Servicios a domic...|              4.5|        4.6|          4.5|          4.3|          4.5|          4.6|          4.1|         4.1|             4.4|        4.3|           4.2|          4.6|             4.5|             4.6|             4.6|       4.4|\n",
      "|Lo tengo y te lo ...|              4.5|        4.6|          4.3|          4.4|          4.4|          4.7|          4.4|         4.3|             4.5|        4.5|           4.4|          4.6|             4.5|             4.6|             4.6|       4.5|\n",
      "|Gestión de Reside...|              4.6|        4.4|          4.6|          4.5|          4.5|          4.1|          4.5|         4.7|             4.4|        4.5|           4.4|          4.6|             4.4|             4.5|             4.4|       4.5|\n",
      "|       Te lo cambio.|              4.3|        4.0|          4.2|          4.0|          4.4|          4.8|          4.1|         4.1|             4.2|        4.3|           3.6|          4.5|             4.6|             4.5|             4.5|       4.3|\n",
      "|Administración de...|              4.1|        4.4|          4.0|          3.9|          4.2|          4.4|          4.0|         4.4|             3.9|        4.4|           4.1|          4.1|             4.3|             4.2|             4.1|       4.2|\n",
      "|Deserción de estu...|              4.5|        5.0|          5.0|          5.0|          4.5|          5.0|          5.0|         4.5|             5.0|        4.5|           4.5|          5.0|             4.5|             4.5|             5.0|       4.8|\n",
      "|Gestión de Menús ...|              4.3|        4.0|          4.6|          4.3|          4.4|          4.0|          4.2|         4.2|             4.3|        4.6|           4.3|          4.5|             4.5|             4.5|             4.7|       4.4|\n",
      "|Gestión de progra...|              4.4|        4.4|          4.5|          3.9|          4.3|          4.4|          4.4|         4.5|             4.3|        4.3|           4.5|          4.4|             4.5|             4.5|             4.6|       4.4|\n",
      "|     Mi Sanandresito|              4.2|        3.9|          4.3|          4.0|          4.3|          4.3|          4.3|         4.4|             3.5|        4.4|           4.4|          4.6|             4.3|             4.2|             4.1|       4.2|\n",
      "+--------------------+-----------------+-----------+-------------+-------------+-------------+-------------+-------------+------------+----------------+-----------+--------------+-------------+----------------+----------------+----------------+----------+\n",
      "\n"
     ]
    }
   ],
   "source": [
    "spark.sql(\"\"\"\n",
    "SELECT t2.equipo_evaluado, ROUND(AVG(t2.introduccion),1) AS Prom_introduccion, ROUND(AVG(t2.equipo),1) AS Prom_equipo, ROUND(AVG(t2.problema),1) AS Prom_problema, ROUND(AVG(t2.ventajas),1) AS Prom_ventajas, ROUND(AVG(t2.solucion),1) AS Prom_solucion, ROUND(AVG(t2.producto),1) AS Prom_producto, ROUND(AVG(t2.traccion),1) AS Prom_traccion, ROUND(AVG(t2.mercado),1) AS Prom_mercado, ROUND(AVG(t2.competencia),1) AS Prom_competencia, ROUND(AVG(t2.modelo),1) AS Prom_modelo, ROUND(AVG(t2.inversion),1) AS Prom_inversion, ROUND(AVG(t2.contacto),1) AS Prom_contacto, ROUND(AVG(t2.exposicion1),1) AS Prom_exposicion1, ROUND(AVG(t2.exposicion2),1) AS Prom_exposicion2, ROUND(AVG(t2.exposicion3),1) AS Prom_exposicion3,  ROUND(((AVG(t2.introduccion) + AVG(t2.equipo) + AVG(t2.problema) + AVG(t2.ventajas) + AVG(t2.solucion) + AVG(t2.producto) + AVG(t2.traccion) + AVG(t2.mercado) + AVG(t2.competencia)  + AVG(t2.modelo) + AVG(t2.inversion) + AVG(t2.contacto) + AVG(t2.exposicion1) + AVG(t2.exposicion2) + AVG(t2.exposicion3))/15),1) AS Prom_Total\n",
    "FROM asistencia t1, evaluacion t2\n",
    "WHERE (t1.usuario = t2.usuario AND (SUBSTRING(t1.equipo_perteneces,15,LENGTH(t1.equipo_perteneces)-14) <> t2.equipo_evaluado))\n",
    "GROUP BY t2.equipo_evaluado\n",
    "\"\"\").show()\n"
   ]
  },
  {
   "cell_type": "code",
   "execution_count": 63,
   "metadata": {},
   "outputs": [],
   "source": [
    "# 10. Consulte el mejor equipo evaluado por cada ítem (según nota promedio. En caso de empate mostrar todos los empatados) \n",
    "# y el mejor equipo según el promedio total.\n",
    "# Tu código a continuación...\n",
    "\n",
    "#df = spark.sql(\"\"\"\n",
    "#SELECT t2.equipo_evaluado, AVG(t2.introduccion) AS Prom_introduccion, AVG(t2.equipo) AS Prom_equipo, AVG(t2.problema) AS Prom_problema, AVG(t2.ventajas) AS Prom_ventajas, AVG(t2.solucion) AS Prom_solucion, AVG(t2.producto) AS Prom_producto, AVG(t2.traccion) AS Prom_traccion, AVG(t2.mercado) AS Prom_mercado, AVG(t2.competencia) AS Prom_competencia, AVG(t2.modelo) AS Prom_modelo, AVG(t2.inversion) AS Prom_inversion, AVG(t2.contacto) AS Prom_contacto, AVG(t2.exposicion1) AS Prom_exposicion1, AVG(t2.exposicion2) AS Prom_exposicion2, AVG(t2.exposicion3) AS Prom_exposicion3,  ((AVG(t2.introduccion) + AVG(t2.equipo) + AVG(t2.problema) + AVG(t2.ventajas) + AVG(t2.solucion) + AVG(t2.producto) + AVG(t2.traccion) + AVG(t2.mercado) + AVG(t2.competencia)  + AVG(t2.modelo) + AVG(t2.inversion) + AVG(t2.contacto) + AVG(t2.exposicion1) + AVG(t2.exposicion2) + AVG(t2.exposicion3))/15) AS Prom_Total\n",
    "#FROM asistencia t1, evaluacion t2\n",
    "#WHERE (t1.usuario = t2.usuario AND (SUBSTRING(t1.equipo_perteneces,15,LENGTH(t1.equipo_perteneces)-14) <> t2.equipo_evaluado))\n",
    "#GROUP BY t2.equipo_evaluado\n",
    "#\"\"\")"
   ]
  },
  {
   "cell_type": "code",
   "execution_count": 102,
   "metadata": {},
   "outputs": [],
   "source": [
    "df = spark.sql(\"\"\"\n",
    "SELECT t2.equipo_evaluado, ROUND(AVG(t2.introduccion),1) AS Prom_introduccion, ROUND(AVG(t2.equipo),1) AS Prom_equipo, ROUND(AVG(t2.problema),1) AS Prom_problema, ROUND(AVG(t2.ventajas),1) AS Prom_ventajas, ROUND(AVG(t2.solucion),1) AS Prom_solucion, ROUND(AVG(t2.producto),1) AS Prom_producto, ROUND(AVG(t2.traccion),1) AS Prom_traccion, ROUND(AVG(t2.mercado),1) AS Prom_mercado, ROUND(AVG(t2.competencia),1) AS Prom_competencia, ROUND(AVG(t2.modelo),1) AS Prom_modelo, ROUND(AVG(t2.inversion),1) AS Prom_inversion, ROUND(AVG(t2.contacto),1) AS Prom_contacto, ROUND(AVG(t2.exposicion1),1) AS Prom_exposicion1, ROUND(AVG(t2.exposicion2),1) AS Prom_exposicion2, ROUND(AVG(t2.exposicion3),1) AS Prom_exposicion3,  ROUND(((AVG(t2.introduccion) + AVG(t2.equipo) + AVG(t2.problema) + AVG(t2.ventajas) + AVG(t2.solucion) + AVG(t2.producto) + AVG(t2.traccion) + AVG(t2.mercado) + AVG(t2.competencia)  + AVG(t2.modelo) + AVG(t2.inversion) + AVG(t2.contacto) + AVG(t2.exposicion1) + AVG(t2.exposicion2) + AVG(t2.exposicion3))/15),1) AS Prom_Total\n",
    "FROM asistencia t1, evaluacion t2\n",
    "WHERE (t1.usuario = t2.usuario AND (SUBSTRING(t1.equipo_perteneces,15,LENGTH(t1.equipo_perteneces)-14) <> t2.equipo_evaluado))\n",
    "GROUP BY t2.equipo_evaluado\n",
    "\"\"\")"
   ]
  },
  {
   "cell_type": "code",
   "execution_count": 103,
   "metadata": {},
   "outputs": [],
   "source": [
    "df.createOrReplaceTempView('promedios')"
   ]
  },
  {
   "cell_type": "code",
   "execution_count": 104,
   "metadata": {},
   "outputs": [
    {
     "data": {
      "text/plain": [
       "Row(equipo_evaluado='Servicios a domicilio', Prom_introduccion=4.5, Prom_equipo=4.6, Prom_problema=4.5, Prom_ventajas=4.3, Prom_solucion=4.5, Prom_producto=4.6, Prom_traccion=4.1, Prom_mercado=4.1, Prom_competencia=4.4, Prom_modelo=4.3, Prom_inversion=4.2, Prom_contacto=4.6, Prom_exposicion1=4.5, Prom_exposicion2=4.6, Prom_exposicion3=4.6, Prom_Total=4.4)"
      ]
     },
     "execution_count": 104,
     "metadata": {},
     "output_type": "execute_result"
    }
   ],
   "source": [
    "df.head()"
   ]
  },
  {
   "cell_type": "code",
   "execution_count": 113,
   "metadata": {},
   "outputs": [
    {
     "name": "stdout",
     "output_type": "stream",
     "text": [
      "+---+---+---+---+-----+-----+\n",
      "|sol|mer|mod|inv|expo1|total|\n",
      "+---+---+---+---+-----+-----+\n",
      "|4.5|4.7|4.6|4.5|  4.6|  4.8|\n",
      "+---+---+---+---+-----+-----+\n",
      "\n"
     ]
    }
   ],
   "source": [
    "spark.sql(\"\"\"\n",
    "SELECT round(MAX(Prom_solucion),1) AS sol, round(MAX(Prom_mercado),1) AS mer, round(MAX(Prom_modelo),1) as mod, ROUND(MAX(Prom_inversion),1) as inv, ROUND(MAX(Prom_exposicion1),1) as expo1, ROUND(MAX(Prom_Total),1) as total FROM promedios\n",
    "\"\"\").show(20)"
   ]
  },
  {
   "cell_type": "code",
   "execution_count": 115,
   "metadata": {},
   "outputs": [
    {
     "name": "stdout",
     "output_type": "stream",
     "text": [
      "+---------------------+-----------------+-----+\n",
      "|mejor_equipo_evaluado|             item|prome|\n",
      "+---------------------+-----------------+-----+\n",
      "| Gestión de Reside...|Prom_introduccion|  4.6|\n",
      "| Deserción de estu...|      Prom_equipo|  5.0|\n",
      "| Deserción de estu...|    Prom_problema|  5.0|\n",
      "| Deserción de estu...|    Prom_ventajas|  5.0|\n",
      "| Servicios a domic...|    Prom_solucion|  4.5|\n",
      "| Gestión de Reside...|    Prom_solucion|  4.5|\n",
      "| Deserción de estu...|    Prom_solucion|  4.5|\n",
      "| Deserción de estu...|    Prom_producto|  5.0|\n",
      "| Deserción de estu...|    Prom_traccion|  5.0|\n",
      "| Gestión de Reside...|     Prom_mercado|  4.7|\n",
      "| Deserción de estu...| Prom_competencia|  5.0|\n",
      "| Gestión de Menús ...|      Prom_modelo|  4.6|\n",
      "| Deserción de estu...|   Prom_inversion|  4.5|\n",
      "| Gestión de progra...|   Prom_inversion|  4.5|\n",
      "| Deserción de estu...|    Prom_contacto|  5.0|\n",
      "|        Te lo cambio.| Prom_exposicion1|  4.6|\n",
      "| Servicios a domic...| Prom_exposicion2|  4.6|\n",
      "| Lo tengo y te lo ...| Prom_exposicion2|  4.6|\n",
      "| Deserción de estu...| Prom_exposicion3|  5.0|\n",
      "| Deserción de estu...|       Prom_Total|  4.8|\n",
      "+---------------------+-----------------+-----+\n",
      "\n"
     ]
    }
   ],
   "source": [
    "spark.sql(\"\"\"\n",
    "SELECT p.equipo_evaluado AS mejor_equipo_evaluado,'Prom_introduccion' AS item, a.prome\n",
    "FROM promedios AS p INNER JOIN \n",
    "(SELECT MAX(Prom_introduccion) AS prome FROM promedios) a\n",
    "ON p.Prom_introduccion = a.prome\n",
    "\n",
    "UNION ALL\n",
    "\n",
    "SELECT p.equipo_evaluado AS mejor_equipo_evaluado,'Prom_equipo' AS item, b.prome\n",
    "FROM promedios AS p INNER JOIN \n",
    "(SELECT MAX(Prom_equipo) AS prome FROM promedios) b\n",
    "ON p.Prom_equipo = b.prome\n",
    "\n",
    "UNION ALL\n",
    "\n",
    "SELECT p.equipo_evaluado AS mejor_equipo_evaluado,'Prom_problema' AS item, c.prome\n",
    "FROM promedios AS p INNER JOIN \n",
    "(SELECT MAX(Prom_problema) AS prome FROM promedios) c\n",
    "ON p.Prom_equipo = c.prome\n",
    "\n",
    "UNION ALL\n",
    "\n",
    "SELECT p.equipo_evaluado AS mejor_equipo_evaluado,'Prom_ventajas' AS item, d.prome\n",
    "FROM promedios AS p INNER JOIN \n",
    "(SELECT MAX(Prom_ventajas) AS prome FROM promedios) d\n",
    "ON p.Prom_equipo = d.prome\n",
    "\n",
    "UNION ALL\n",
    "\n",
    "SELECT equipo_evaluado AS mejor_equipo_evaluado,'Prom_solucion' AS item, Prom_solucion\n",
    "FROM promedios\n",
    "WHERE Prom_solucion = 4.5\n",
    "\n",
    "UNION ALL\n",
    "\n",
    "SELECT p.equipo_evaluado AS mejor_equipo_evaluado,'Prom_producto' AS item, f.prome\n",
    "FROM promedios AS p INNER JOIN \n",
    "(SELECT MAX(Prom_producto) AS prome FROM promedios) f\n",
    "ON p.Prom_equipo = f.prome\n",
    "\n",
    "UNION ALL\n",
    "\n",
    "SELECT p.equipo_evaluado AS mejor_equipo_evaluado,'Prom_traccion' AS item, g.prome\n",
    "FROM promedios AS p INNER JOIN \n",
    "(SELECT MAX(Prom_traccion) AS prome FROM promedios) g\n",
    "ON p.Prom_equipo = g.prome\n",
    "\n",
    "UNION ALL\n",
    "\n",
    "SELECT equipo_evaluado AS mejor_equipo_evaluado,'Prom_mercado' AS item, Prom_mercado\n",
    "FROM promedios\n",
    "WHERE Prom_mercado = 4.7\n",
    "\n",
    "UNION ALL\n",
    "\n",
    "SELECT p.equipo_evaluado AS mejor_equipo_evaluado,'Prom_competencia' AS item, i.prome\n",
    "FROM promedios AS p INNER JOIN \n",
    "(SELECT MAX(Prom_competencia) AS prome FROM promedios) i\n",
    "ON p.Prom_equipo = i.prome\n",
    "\n",
    "UNION ALL\n",
    "\n",
    "SELECT equipo_evaluado AS mejor_equipo_evaluado,'Prom_modelo' AS item, Prom_modelo\n",
    "FROM promedios\n",
    "WHERE Prom_modelo = 4.6\n",
    "\n",
    "UNION ALL\n",
    "\n",
    "SELECT equipo_evaluado AS mejor_equipo_evaluado,'Prom_inversion' AS item, Prom_inversion\n",
    "FROM promedios\n",
    "WHERE Prom_inversion = 4.5\n",
    "\n",
    "\n",
    "UNION ALL\n",
    "\n",
    "SELECT p.equipo_evaluado AS mejor_equipo_evaluado,'Prom_contacto' AS item, l.prome\n",
    "FROM promedios AS p INNER JOIN \n",
    "(SELECT MAX(Prom_contacto) AS prome FROM promedios) l\n",
    "ON p.Prom_equipo = l.prome\n",
    "    \n",
    "UNION ALL\n",
    "\n",
    "SELECT equipo_evaluado AS mejor_equipo_evaluado,'Prom_exposicion1' AS item, Prom_exposicion1\n",
    "FROM promedios\n",
    "WHERE Prom_exposicion1 = 4.6\n",
    "\n",
    "UNION ALL\n",
    "\n",
    "SELECT p.equipo_evaluado AS mejor_equipo_evaluado,'Prom_exposicion2' AS item, n.prome\n",
    "FROM promedios AS p INNER JOIN \n",
    "(SELECT MAX(Prom_exposicion2) AS prome FROM promedios) n\n",
    "ON p.Prom_equipo = n.prome\n",
    "\n",
    "UNION ALL\n",
    "\n",
    "SELECT p.equipo_evaluado AS mejor_equipo_evaluado,'Prom_exposicion3' AS item, o.prome\n",
    "FROM promedios AS p INNER JOIN \n",
    "(SELECT MAX(Prom_exposicion3) AS prome FROM promedios) o\n",
    "ON p.Prom_equipo = o.prome\n",
    "\n",
    "UNION ALL\n",
    "\n",
    "SELECT equipo_evaluado AS mejor_equipo_evaluado,'Prom_Total' AS item, Prom_Total\n",
    "FROM promedios\n",
    "WHERE Prom_Total = 4.8\n",
    "\n",
    "\n",
    "\"\"\").show()"
   ]
  },
  {
   "cell_type": "code",
   "execution_count": null,
   "metadata": {},
   "outputs": [],
   "source": [
    "# 11. Consulte el peor equipo evaluado por cada ítem (según nota promedio. En caso de empate mostrar todos los empatados) \n",
    "# y el peor equipo según el promedio total.\n",
    "# Tu código a continuación..."
   ]
  },
  {
   "cell_type": "code",
   "execution_count": 125,
   "metadata": {},
   "outputs": [
    {
     "name": "stdout",
     "output_type": "stream",
     "text": [
      "+---+---+----+---+---+----+-----+-----+-----+-----+\n",
      "|sol|mer|comp|mod|inv|cont|expo1|expo2|expo3|total|\n",
      "+---+---+----+---+---+----+-----+-----+-----+-----+\n",
      "|4.2|4.1| 3.5|4.3|3.6| 4.1|  4.3|  4.2|  4.1|  4.2|\n",
      "+---+---+----+---+---+----+-----+-----+-----+-----+\n",
      "\n"
     ]
    }
   ],
   "source": [
    "spark.sql(\"\"\"\n",
    "SELECT round(MIN(Prom_solucion),1) AS sol, round(MIN(Prom_mercado),1) AS mer, round(MIN(Prom_competencia),1) as comp, ROUND(MIN(Prom_modelo),1) as mod, ROUND(MIN(Prom_inversion),1) as inv, ROUND(MIN(Prom_contacto),1) as cont, ROUND(MIN(Prom_exposicion1),1) as expo1, ROUND(MIN(Prom_exposicion2),1) as expo2, ROUND(MIN(Prom_exposicion3),1) as expo3, ROUND(MIN(Prom_Total),1) as total FROM promedios\n",
    "\"\"\").show(20)"
   ]
  },
  {
   "cell_type": "code",
   "execution_count": 128,
   "metadata": {},
   "outputs": [
    {
     "name": "stdout",
     "output_type": "stream",
     "text": [
      "+---------------------+-----------------+-----+\n",
      "|mejor_equipo_evaluado|             item|prome|\n",
      "+---------------------+-----------------+-----+\n",
      "| Administración de...|Prom_introduccion|  4.1|\n",
      "|      Mi Sanandresito|      Prom_equipo|  3.9|\n",
      "|        Te lo cambio.|    Prom_problema|  4.0|\n",
      "| Gestión de Menús ...|    Prom_problema|  4.0|\n",
      "|      Mi Sanandresito|    Prom_ventajas|  3.9|\n",
      "| Administración de...|    Prom_solucion|  4.2|\n",
      "|        Te lo cambio.|    Prom_producto|  4.0|\n",
      "| Gestión de Menús ...|    Prom_producto|  4.0|\n",
      "|        Te lo cambio.|    Prom_traccion|  4.0|\n",
      "| Gestión de Menús ...|    Prom_traccion|  4.0|\n",
      "| Servicios a domic...|     Prom_mercado|  4.1|\n",
      "|        Te lo cambio.|     Prom_mercado|  4.1|\n",
      "|      Mi Sanandresito| Prom_competencia|  3.5|\n",
      "| Servicios a domic...|      Prom_modelo|  4.3|\n",
      "|        Te lo cambio.|      Prom_modelo|  4.3|\n",
      "| Gestión de progra...|      Prom_modelo|  4.3|\n",
      "|        Te lo cambio.|   Prom_inversion|  3.6|\n",
      "| Administración de...|    Prom_contacto|  4.1|\n",
      "| Administración de...| Prom_exposicion1|  4.3|\n",
      "|      Mi Sanandresito| Prom_exposicion1|  4.3|\n",
      "| Administración de...| Prom_exposicion2|  4.2|\n",
      "|      Mi Sanandresito| Prom_exposicion2|  4.2|\n",
      "| Administración de...| Prom_exposicion3|  4.1|\n",
      "|      Mi Sanandresito| Prom_exposicion3|  4.1|\n",
      "| Administración de...|       Prom_Total|  4.2|\n",
      "|      Mi Sanandresito|       Prom_Total|  4.2|\n",
      "+---------------------+-----------------+-----+\n",
      "\n"
     ]
    }
   ],
   "source": [
    "spark.sql(\"\"\"\n",
    "SELECT p.equipo_evaluado AS mejor_equipo_evaluado,'Prom_introduccion' AS item, a.prome\n",
    "FROM promedios AS p INNER JOIN \n",
    "(SELECT MIN(Prom_introduccion) AS prome FROM promedios) a\n",
    "ON p.Prom_introduccion = a.prome\n",
    "\n",
    "UNION ALL\n",
    "\n",
    "SELECT p.equipo_evaluado AS mejor_equipo_evaluado,'Prom_equipo' AS item, b.prome\n",
    "FROM promedios AS p INNER JOIN \n",
    "(SELECT MIN(Prom_equipo) AS prome FROM promedios) b\n",
    "ON p.Prom_equipo = b.prome\n",
    "\n",
    "UNION ALL\n",
    "\n",
    "SELECT p.equipo_evaluado AS mejor_equipo_evaluado,'Prom_problema' AS item, c.prome\n",
    "FROM promedios AS p INNER JOIN \n",
    "(SELECT MIN(Prom_problema) AS prome FROM promedios) c\n",
    "ON p.Prom_equipo = c.prome\n",
    "\n",
    "UNION ALL\n",
    "\n",
    "SELECT p.equipo_evaluado AS mejor_equipo_evaluado,'Prom_ventajas' AS item, d.prome\n",
    "FROM promedios AS p INNER JOIN \n",
    "(SELECT MIN(Prom_ventajas) AS prome FROM promedios) d\n",
    "ON p.Prom_equipo = d.prome\n",
    "\n",
    "UNION ALL\n",
    "\n",
    "SELECT equipo_evaluado AS mejor_equipo_evaluado,'Prom_solucion' AS item, Prom_solucion\n",
    "FROM promedios\n",
    "WHERE Prom_solucion = 4.2\n",
    "\n",
    "\n",
    "UNION ALL\n",
    "\n",
    "SELECT p.equipo_evaluado AS mejor_equipo_evaluado,'Prom_producto' AS item, f.prome\n",
    "FROM promedios AS p INNER JOIN \n",
    "(SELECT MIN(Prom_producto) AS prome FROM promedios) f\n",
    "ON p.Prom_equipo = f.prome\n",
    "\n",
    "UNION ALL\n",
    "\n",
    "SELECT p.equipo_evaluado AS mejor_equipo_evaluado,'Prom_traccion' AS item, g.prome\n",
    "FROM promedios AS p INNER JOIN \n",
    "(SELECT MIN(Prom_traccion) AS prome FROM promedios) g\n",
    "ON p.Prom_equipo = g.prome\n",
    "\n",
    "UNION ALL\n",
    "\n",
    "SELECT equipo_evaluado AS mejor_equipo_evaluado,'Prom_mercado' AS item, Prom_mercado\n",
    "FROM promedios\n",
    "WHERE Prom_mercado = 4.1\n",
    "\n",
    "UNION ALL\n",
    "\n",
    "SELECT equipo_evaluado AS mejor_equipo_evaluado,'Prom_competencia' AS item, Prom_competencia\n",
    "FROM promedios\n",
    "WHERE Prom_competencia = 3.5\n",
    "    \n",
    "UNION ALL\n",
    "\n",
    "SELECT equipo_evaluado AS mejor_equipo_evaluado,'Prom_modelo' AS item, Prom_modelo\n",
    "FROM promedios\n",
    "WHERE Prom_modelo = 4.3\n",
    "\n",
    "UNION ALL\n",
    "\n",
    "SELECT equipo_evaluado AS mejor_equipo_evaluado,'Prom_inversion' AS item, Prom_inversion\n",
    "FROM promedios\n",
    "WHERE Prom_inversion = 3.6\n",
    "\n",
    "UNION ALL\n",
    "\n",
    "SELECT equipo_evaluado AS mejor_equipo_evaluado,'Prom_contacto' AS item, Prom_contacto\n",
    "FROM promedios\n",
    "WHERE Prom_contacto = 4.1\n",
    "    \n",
    "UNION ALL\n",
    "\n",
    "SELECT equipo_evaluado AS mejor_equipo_evaluado,'Prom_exposicion1' AS item, Prom_exposicion1\n",
    "FROM promedios\n",
    "WHERE Prom_exposicion1 = 4.3\n",
    "\n",
    "UNION ALL\n",
    "\n",
    "SELECT equipo_evaluado AS mejor_equipo_evaluado,'Prom_exposicion2' AS item, Prom_exposicion2\n",
    "FROM promedios\n",
    "WHERE Prom_exposicion2 = 4.2\n",
    "\n",
    "UNION ALL\n",
    "\n",
    "SELECT equipo_evaluado AS mejor_equipo_evaluado,'Prom_exposicion3' AS item, Prom_exposicion3\n",
    "FROM promedios\n",
    "WHERE Prom_exposicion3 = 4.1\n",
    "\n",
    "UNION ALL\n",
    "\n",
    "SELECT equipo_evaluado AS mejor_equipo_evaluado,'Prom_Total' AS item, Prom_Total\n",
    "FROM promedios\n",
    "WHERE Prom_Total = 4.2\n",
    "\n",
    "\"\"\").show(30)"
   ]
  },
  {
   "cell_type": "code",
   "execution_count": 30,
   "metadata": {},
   "outputs": [],
   "source": [
    "# 12. Consulte la lista de estudiantes con la correspondiente nota obtenida en la presentación \n",
    "# (nota promedio total de la evaluación obtenida por el equipo)\n",
    "# Tu código a continuación..."
   ]
  },
  {
   "cell_type": "code",
   "execution_count": 37,
   "metadata": {},
   "outputs": [],
   "source": [
    "data = spark.sql(\"\"\" \n",
    "SELECT DISTINCT \n",
    "      usuario, SUBSTRING(equipo_perteneces,15,LENGTH(equipo_perteneces)-14) as Equipo\n",
    "FROM asistencia\n",
    "ORDER BY Equipo, usuario\n",
    "\"\"\")"
   ]
  },
  {
   "cell_type": "code",
   "execution_count": 38,
   "metadata": {},
   "outputs": [],
   "source": [
    "data.createOrReplaceTempView('integrantes')"
   ]
  },
  {
   "cell_type": "code",
   "execution_count": 43,
   "metadata": {},
   "outputs": [
    {
     "data": {
      "text/plain": [
       "Row(usuario='angutierrezb@unal.edu.co', Equipo='Administración de Inmuebles')"
      ]
     },
     "execution_count": 43,
     "metadata": {},
     "output_type": "execute_result"
    }
   ],
   "source": [
    "data.head()"
   ]
  },
  {
   "cell_type": "code",
   "execution_count": 47,
   "metadata": {},
   "outputs": [
    {
     "name": "stdout",
     "output_type": "stream",
     "text": [
      "+--------------------+--------------------+--------------+\n",
      "|             usuario|              Equipo|Promedio_total|\n",
      "+--------------------+--------------------+--------------+\n",
      "| eapenad@unal.edu.co|Administración de...|          4.19|\n",
      "|samolinap@unal.ed...|Administración de...|          4.19|\n",
      "|nsalinas@unal.edu.co|Administración de...|          4.19|\n",
      "|jhcordoba@unal.ed...|Administración de...|          4.19|\n",
      "| jortize@unal.edu.co|Administración de...|          4.19|\n",
      "|framirezf@unal.ed...|Administración de...|          4.19|\n",
      "|angutierrezb@unal...|Administración de...|          4.19|\n",
      "| kmolano@unal.edu.co|Administración de...|          4.19|\n",
      "|lumarinb@unal.edu.co|Administración de...|          4.19|\n",
      "|emflorezb@unal.ed...|Administración de...|          4.19|\n",
      "|rmbuilesm@unal.ed...|Administración de...|          4.19|\n",
      "|sednarvaezna@unal...|Administración de...|          4.19|\n",
      "|saespinosab@unal....|Administración de...|          4.19|\n",
      "|anapariciom@unal....|Gestión de Menús ...|          4.36|\n",
      "|favasquezj@unal.e...|Gestión de Menús ...|          4.36|\n",
      "|   lmazo@unal.edu.co|Gestión de Menús ...|          4.36|\n",
      "|jcardonaso@unal.e...|Gestión de Menús ...|          4.36|\n",
      "|mcarvajalsa@unal....|Gestión de Menús ...|          4.36|\n",
      "| abanolc@unal.edu.co|Gestión de Menús ...|          4.36|\n",
      "|hriveraa@unal.edu.co|Gestión de Menús ...|          4.36|\n",
      "+--------------------+--------------------+--------------+\n",
      "only showing top 20 rows\n",
      "\n"
     ]
    }
   ],
   "source": [
    "spark.sql(\"\"\" \n",
    "SELECT DISTINCT \n",
    "      t1.usuario, t1.Equipo, ROUND(t2.Prom_Total,2) AS Promedio_total\n",
    "FROM integrantes AS t1 INNER JOIN\n",
    "promedios AS t2\n",
    "ON t1.Equipo = t2.equipo_evaluado\n",
    "ORDER BY Equipo\n",
    "\"\"\").show()"
   ]
  },
  {
   "cell_type": "code",
   "execution_count": null,
   "metadata": {},
   "outputs": [],
   "source": [
    "#spark.stop()"
   ]
  }
 ],
 "metadata": {
  "kernelspec": {
   "display_name": "Python 3",
   "language": "python",
   "name": "python3"
  },
  "language_info": {
   "codemirror_mode": {
    "name": "ipython",
    "version": 3
   },
   "file_extension": ".py",
   "mimetype": "text/x-python",
   "name": "python",
   "nbconvert_exporter": "python",
   "pygments_lexer": "ipython3",
   "version": "3.6.9"
  }
 },
 "nbformat": 4,
 "nbformat_minor": 4
}
